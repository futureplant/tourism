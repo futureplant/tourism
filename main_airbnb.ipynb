{
 "cells": [
  {
   "cell_type": "markdown",
   "metadata": {},
   "source": [
    "<b>Notebook for exploring tourism intensity and other spatial attributes based on Inside Airbnb listing data </b>"
   ]
  },
  {
   "cell_type": "code",
   "execution_count": null,
   "metadata": {},
   "outputs": [],
   "source": [
    "import pandas as pd\n",
    "import datetime\n",
    "import geopandas as gpd\n",
    "import seaborn as sns\n",
    "import glob as glob\n",
    "import matplotlib.pyplot as plt\n",
    "from pylab import savefig\n",
    "import matplotlib.ticker as mtick\n",
    "from scripts.data_wrangling import listing2gdf, census2gdf,CalculateTouristIntensity,aggregate\n",
    "from mpl_toolkits.axes_grid1 import make_axes_locatable\n",
    "\n",
    "from IPython.core.display import display, HTML\n",
    "display(HTML(\"<style>.container { width:80% !important; }</style>\"))"
   ]
  },
  {
   "cell_type": "code",
   "execution_count": null,
   "metadata": {},
   "outputs": [],
   "source": [
    "#listing data urls\n",
    "apr2019 = \"http://data.insideairbnb.com/the-netherlands/north-holland/amsterdam/2019-04-08/data/listings.csv.gz\"\n",
    "apr2018 = \"http://data.insideairbnb.com/the-netherlands/north-holland/amsterdam/2018-04-07/data/listings.csv.gz\"\n",
    "apr2017 = \"http://data.insideairbnb.com/the-netherlands/north-holland/amsterdam/2017-04-02/data/listings.csv.gz\"\n",
    "apr2016 = \"http://data.insideairbnb.com/the-netherlands/north-holland/amsterdam/2016-04-04/data/listings.csv.gz\"\n",
    "apr2015 = \"http://data.insideairbnb.com/the-netherlands/north-holland/amsterdam/2015-04-05/data/listings.csv.gz\"\n",
    "\n",
    "listings_2015_2019 = [apr2015,apr2019,apr2018,apr2017,apr2016]"
   ]
  },
  {
   "cell_type": "code",
   "execution_count": null,
   "metadata": {},
   "outputs": [],
   "source": [
    "#retrieve and process that listing data\n",
    "for url in listings_2015_2019:\n",
    "    \n",
    "    date = url.split('/')[-3]\n",
    "    year = date[0:4]\n",
    "    \n",
    "    print(\"Processing: \\n\" + url)\n",
    "    \n",
    "    #load airbnb data and seperate features\n",
    "    airbnb_gdf = listing2gdf(url)\n",
    "    room = airbnb_gdf.loc[airbnb_gdf['room_type'].isin(['Private room','Shared room'])]\n",
    "    entire_home = airbnb_gdf.loc[airbnb_gdf['room_type']=='Entire home/apt']\n",
    "    superhost = airbnb_gdf.loc[airbnb_gdf['host_is_superhost']=='t']\n",
    "    illegal = airbnb_gdf.loc[airbnb_gdf['availability_365']>30]\n",
    "    \n",
    "    #loading Amsterdam census data\n",
    "    nbh_gdf = census2gdf(\"./data/amsterdam_neighbourhoods.geojson\")\n",
    "    \n",
    "    #aggregate airbnb features and census data\n",
    "    nbh_gdf = aggregate(airbnb_gdf,nbh_gdf,room,entire_home,superhost,illegal)\n",
    "    \n",
    "    #calculate tourist intensity\n",
    "    nbh_gdf = CalculateTouristIntensity(nbh_gdf,year)\n",
    "    nbh_gdf['date'] = date\n",
    "    \n",
    "    #export listing and airbnb data as geojson files\n",
    "    nbh_gdf.to_file(\"./output/AirbnbPoly_{}.geojson\".format(date.replace('-','')), driver=\"GeoJSON\",encoding='utf-8')\n",
    "    airbnb_gdf.to_file(\"./output/AirbnbPoints_{}.geojson\".format(date.replace('-','')),driver=\"GeoJSON\",encoding='utf-8')\n",
    "    \n",
    "    print(\"Done!\")"
   ]
  },
  {
   "cell_type": "code",
   "execution_count": null,
   "metadata": {},
   "outputs": [],
   "source": [
    "#concatenate geojson from different years\n",
    "data_poly = []\n",
    "for poly in glob.glob(\"./output/AirbnbPoly_*\"):\n",
    "    gdf = gpd.read_file(poly, driver='GeoJSON')\n",
    "    pdf = pd.DataFrame(gdf)\n",
    "    data_poly.append(pdf)\n",
    "    concat = pd.concat(data_poly, axis=0)\n",
    "    combined_gdf = gpd.GeoDataFrame(concat)\n",
    "combined_gdf.to_file(\"./output/AirbnbPoly_Concat_2015to2019.geojson\", driver=\"GeoJSON\",encoding='utf-8')\n",
    "\n",
    "# data_point = []\n",
    "# for poly in glob.glob(\"./output/AirbnbPoints_*\"):\n",
    "#     gdf = gpd.read_file(poly, driver='GeoJSON')\n",
    "#     pdf = pd.DataFrame(gdf)\n",
    "#     data_point.append(pdf)\n",
    "#     concat = pd.concat(data_point, axis=0)\n",
    "#     combined_gdf = gpd.GeoDataFrame(concat)\n",
    "# combined_gdf.to_file(\"./output/AirbnbPoints_Concat_2015to2019.geojson\", driver=\"GeoJSON\",encoding='utf-8')"
   ]
  },
  {
   "cell_type": "markdown",
   "metadata": {},
   "source": [
    "<b>Plots </b>"
   ]
  },
  {
   "cell_type": "code",
   "execution_count": null,
   "metadata": {},
   "outputs": [],
   "source": [
    "poly = gpd.read_file('./output/AirbnbPoly_Concat_2015to2019.geojson', driver='GeoJSON')"
   ]
  },
  {
   "cell_type": "code",
   "execution_count": null,
   "metadata": {},
   "outputs": [],
   "source": [
    "poly.head(1)"
   ]
  },
  {
   "cell_type": "code",
   "execution_count": null,
   "metadata": {},
   "outputs": [],
   "source": [
    "data2018 = listing = poly[poly['date']=='2018-04-07']\n",
    "    \n",
    "fig, ax = plt.subplots(figsize=(10,10))\n",
    "rdnew_crs = {'init' :'epsg:28992'}\n",
    "\n",
    "ax.set_title(\"Number of illegal listing (30+ days) Amsterdam 2018-04-07\", fontsize=12,fontweight='bold')\n",
    "data2018.to_crs(rdnew_crs).dropna(subset = ['Airbnb_Over30Days']).plot(column='Airbnb_Over30Days', ax=ax,cmap='Greens')\n",
    "data2018.to_crs(rdnew_crs).dropna(subset = ['Airbnb_Over30Days']).geometry.boundary.plot(color=None,edgecolor='black',linewidth=0.1,ax=ax)\n",
    "\n",
    "#ax.axis('off')\n",
    "vmin = data2018['Airbnb_Over30Days'].min()\n",
    "vmax = data2018['Airbnb_Over30Days'].max()\n",
    "\n",
    "# Create colorbar\n",
    "sm = plt.cm.ScalarMappable(cmap='Greens', norm=plt.Normalize(vmin=vmin, vmax=vmax))\n",
    "sm._A = []\n",
    "\n",
    "divider = make_axes_locatable(ax)\n",
    "cax = divider.append_axes(\"right\", size=\"5%\", pad=0.05)\n",
    "cbar = fig.colorbar(sm,cax=cax)\n",
    "ax.set(xlabel=\"Easting\", ylabel=\"Northing\")\n",
    "ax.annotate(\"Source: Municipality Amsterdam;Inside Airbnb, 2018\",xy=(0.14, .16), xycoords='figure fraction', horizontalalignment='left', verticalalignment='bottom', fontsize=10, color='#555555')\n",
    "plt.savefig(\"./images/IllegalApril2018.png\",bbox_inches = \"tight\",dpi=300)"
   ]
  },
  {
   "cell_type": "code",
   "execution_count": null,
   "metadata": {
    "scrolled": true
   },
   "outputs": [],
   "source": [
    "#Top 10 Airbnb Neighbourhoods in Amsterdam April 2015-2019\n",
    "for date in poly['date'].unique():\n",
    "    listing = poly[poly['date'].str.contains(date)]\n",
    "    listing = listing.sort_values(by='Airbnb_ListingCount',ascending=False)[:10]\n",
    "    sns.set(style=\"darkgrid\")\n",
    "    \n",
    "    fig, ax = plt.subplots(ncols=2)\n",
    "    fig.suptitle(\"Top 10 Airbnb Neighourhoods in \\nAmsterdam {}\".format(date),size=12,weight='bold',y=1.02,x=0.03,ha='left')\n",
    "    \n",
    "    sns.barplot(x='Airbnb_RoomRentalCount', y='Buurt', data=listing, color=\"#F7F48B\",ax=ax[0])\n",
    "    ax[0].set_title(\"Room\")\n",
    "    ax[0].set(xlabel=\"                                       Airbnb Listing\", \n",
    "              ylabel=\"Neighbourhood\",xlim=(0, 300)) \n",
    "    \n",
    "    ax[0].invert_xaxis()\n",
    "    \n",
    "    sns.barplot(x='Airbnb_EntireLodgeCount', y='Buurt',data= listing, color=\"#f49191\",ax=ax[1])\n",
    "    ax[1].set_title(\"Entire Lodge\")\n",
    "    ax[1].set(xlabel=\"\", ylabel=\"\",xlim=(0, 300))\n",
    "    ax[1].set_yticks([])\n",
    "    #plt.tight_layout(w_pad=-2.5)\n",
    "    sns.despine(left=True, bottom=False)\n",
    "    plt.subplots_adjust(wspace=0)\n",
    "    plt.savefig(\"./images/top10Pricey_april{}.png\".format(date[0:4]),bbox_inches = \"tight\",dpi=300)"
   ]
  },
  {
   "cell_type": "code",
   "execution_count": null,
   "metadata": {},
   "outputs": [],
   "source": []
  },
  {
   "cell_type": "code",
   "execution_count": null,
   "metadata": {
    "scrolled": true
   },
   "outputs": [],
   "source": [
    "#Top 10 Expensive Airbnb Neighbourhoods in Amsterdam April 2015-2019\n",
    "for date in poly['date'].unique():\n",
    "    listing = poly[poly['date'].str.contains(date)]\n",
    "    listing = listing.sort_values(by='Airbnb_AvgPriceRoom',ascending=False)[:10]\n",
    "    sns.set(style=\"darkgrid\")\n",
    "    \n",
    "    fig, ax = plt.subplots(ncols=2)\n",
    "    fig.suptitle(\"Top 10 Expensive Airbnb Neighbourhoods in Amsterdam {}\".format(date),size=12,weight='bold',y=1.02,x=0.03,ha='left')\n",
    "    \n",
    "    sns.barplot(x='Airbnb_AvgPriceRoom', y='Buurt', data=listing, color=\"#F7F48B\",ax=ax[0])\n",
    "    ax[0].set_title(\"Room\")\n",
    "    ax[0].set(xlabel=\"                                       Average Price\", \n",
    "              ylabel=\"Neighbourhood\",xlim=(0, 500)) \n",
    "    \n",
    "    ax[0].invert_xaxis()\n",
    "    \n",
    "    sns.barplot(x='Airbnb_AvgPriceEntireLodge', y='Buurt',data= listing, color=\"#f49191\",ax=ax[1])\n",
    "    ax[1].set_title(\"Entire Lodge\")\n",
    "    ax[1].set(xlabel=\"\", ylabel=\"\",xlim=(0, 500))\n",
    "    ax[1].set_yticks([])\n",
    "    sns.despine(left=True, bottom=False)\n",
    "    fmt = '$%.0f'\n",
    "    tick = mtick.FormatStrFormatter(fmt)\n",
    "    ax[1].xaxis.set_major_formatter(tick)\n",
    "    ax[0].xaxis.set_major_formatter(tick)\n",
    "    sns.despine(left=True, bottom=False)\n",
    "    plt.subplots_adjust(wspace=0)\n",
    "    plt.savefig(\"./images/top10Pricey_april{}.png\".format(date[0:4]),bbox_inches = \"tight\",dpi=300)"
   ]
  },
  {
   "cell_type": "code",
   "execution_count": null,
   "metadata": {},
   "outputs": [],
   "source": [
    "point = gpd.read_file(\"./output/AirbnbPoints_Concat_2015to2019.geojson\",driver='GeoJSON')"
   ]
  },
  {
   "cell_type": "code",
   "execution_count": null,
   "metadata": {
    "scrolled": true
   },
   "outputs": [],
   "source": [
    "data = []\n",
    "over30days = []\n",
    "for date in point['date'].unique():\n",
    "    listing = point[point['date'].str.contains(date)]\n",
    "    days30 = len(listing[listing['availability_365']>30])/len(listing) * 100\n",
    "    data.append(date)\n",
    "    over30days.append(days30)\n",
    "df = pd.DataFrame(list(zip(data, over30days)), columns =['date', 'over30days_rate'])\n",
    "df['over30days_rate']= df['over30days_rate'].round(2)"
   ]
  },
  {
   "cell_type": "code",
   "execution_count": null,
   "metadata": {},
   "outputs": [],
   "source": []
  }
 ],
 "metadata": {
  "kernelspec": {
   "display_name": "Python 3",
   "language": "python",
   "name": "python3"
  },
  "language_info": {
   "codemirror_mode": {
    "name": "ipython",
    "version": 3
   },
   "file_extension": ".py",
   "mimetype": "text/x-python",
   "name": "python",
   "nbconvert_exporter": "python",
   "pygments_lexer": "ipython3",
   "version": "3.7.3"
  }
 },
 "nbformat": 4,
 "nbformat_minor": 2
}
